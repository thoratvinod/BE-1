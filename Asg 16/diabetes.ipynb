{
 "cells": [
  {
   "cell_type": "code",
   "execution_count": 1,
   "metadata": {},
   "outputs": [],
   "source": [
    "import pandas as pd\n",
    "import numpy as np\n",
    "import matplotlib as plt"
   ]
  },
  {
   "cell_type": "code",
   "execution_count": 55,
   "metadata": {},
   "outputs": [
    {
     "name": "stdout",
     "output_type": "stream",
     "text": [
      "___________________IV___________________ \n",
      "    TimesPregnant  GlucoseConcentration  BloodPrs  SkinThickness  Serum   BMI  \\\n",
      "0              6                   148        72             35      0  33.6   \n",
      "1              1                    85        66             29      0  26.6   \n",
      "2              8                   183        64              0      0  23.3   \n",
      "3              1                    89        66             23     94  28.1   \n",
      "4              0                   137        40             35    168  43.1   \n",
      "\n",
      "   DiabetesFunct  Age  \n",
      "0          0.627   50  \n",
      "1          0.351   31  \n",
      "2          0.672   32  \n",
      "3          0.167   21  \n",
      "4          2.288   33  \n",
      "___________________DV___________________ \n",
      " 0    1\n",
      "1    0\n",
      "2    1\n",
      "3    0\n",
      "4    1\n",
      "Name: Class, dtype: int64\n"
     ]
    }
   ],
   "source": [
    "data = pd.read_csv('02_PimaIndiansDiabetes.csv');\n",
    "X = data.iloc[:,:-1]\n",
    "y = data.iloc[:,-1]\n",
    "print(\"IV\".center(40, \"_\"), '\\n', X.head())\n",
    "print(\"DV\".center(40, \"_\"), '\\n', y.head())"
   ]
  },
  {
   "cell_type": "code",
   "execution_count": 56,
   "metadata": {},
   "outputs": [
    {
     "name": "stdout",
     "output_type": "stream",
     "text": [
      "TimesPregnant           False\n",
      "GlucoseConcentration    False\n",
      "BloodPrs                False\n",
      "SkinThickness           False\n",
      "Serum                   False\n",
      "BMI                     False\n",
      "DiabetesFunct           False\n",
      "Age                     False\n",
      "dtype: bool\n",
      "False\n"
     ]
    }
   ],
   "source": [
    "print(X.isnull().any())\n",
    "print(y.isnull().any())"
   ]
  },
  {
   "cell_type": "code",
   "execution_count": 57,
   "metadata": {},
   "outputs": [
    {
     "name": "stdout",
     "output_type": "stream",
     "text": [
      "<class 'pandas.core.frame.DataFrame'>\n",
      "RangeIndex: 768 entries, 0 to 767\n",
      "Data columns (total 8 columns):\n",
      "TimesPregnant           768 non-null int64\n",
      "GlucoseConcentration    768 non-null int64\n",
      "BloodPrs                768 non-null int64\n",
      "SkinThickness           768 non-null int64\n",
      "Serum                   768 non-null int64\n",
      "BMI                     768 non-null float64\n",
      "DiabetesFunct           768 non-null float64\n",
      "Age                     768 non-null int64\n",
      "dtypes: float64(2), int64(6)\n",
      "memory usage: 48.1 KB\n"
     ]
    }
   ],
   "source": [
    "X.info()"
   ]
  },
  {
   "cell_type": "code",
   "execution_count": 58,
   "metadata": {},
   "outputs": [],
   "source": [
    "X = X.values\n",
    "y = y.values"
   ]
  },
  {
   "cell_type": "code",
   "execution_count": 59,
   "metadata": {},
   "outputs": [],
   "source": [
    "from sklearn.model_selection import train_test_split\n",
    "X_train, X_test, y_train, y_test = train_test_split(X,y,test_size=0.25,random_state=0)"
   ]
  },
  {
   "cell_type": "code",
   "execution_count": 60,
   "metadata": {},
   "outputs": [],
   "source": [
    "from sklearn.preprocessing import StandardScaler\n",
    "scaler_x = StandardScaler();\n",
    "X_train = scaler_x.fit_transform(X_train)\n",
    "X_test = scaler_x.transform(X_test)"
   ]
  },
  {
   "cell_type": "code",
   "execution_count": 62,
   "metadata": {},
   "outputs": [],
   "source": [
    "from sklearn.naive_bayes import GaussianNB\n",
    "classifier = GaussianNB()\n",
    "classifier.fit(X_train,y_train)\n",
    "y_pred = classifier.predict(X_test)"
   ]
  },
  {
   "cell_type": "code",
   "execution_count": 65,
   "metadata": {},
   "outputs": [
    {
     "name": "stdout",
     "output_type": "stream",
     "text": [
      "[[114  16]\n",
      " [ 29  33]]\n"
     ]
    }
   ],
   "source": [
    "from sklearn.metrics import confusion_matrix\n",
    "cm = confusion_matrix(y_test,y_pred)\n",
    "print(cm)"
   ]
  },
  {
   "cell_type": "code",
   "execution_count": 68,
   "metadata": {},
   "outputs": [
    {
     "name": "stdout",
     "output_type": "stream",
     "text": [
      "\t\t\t\tONE\t\tZERO\n",
      "Precision : \t [79.72027972 67.34693878]\n",
      "Recall : \t [87.69230769 53.22580645]\n",
      "F1 Score : \t [83.51648352 59.45945946]\n",
      "Support : \t [13000  6200]\n"
     ]
    }
   ],
   "source": [
    "from sklearn.metrics import precision_recall_fscore_support\n",
    "prf = precision_recall_fscore_support(y_test,y_pred)\n",
    "print(\"\\t\\t\\t\\tONE\\t\\tZERO\")\n",
    "print(\"Precision : \\t\", prf[0]*100);\n",
    "print(\"Recall : \\t\", prf[1]*100);\n",
    "print(\"F1 Score : \\t\", prf[2]*100);\n",
    "print(\"Support : \\t\", prf[3]*100);"
   ]
  }
 ],
 "metadata": {
  "kernelspec": {
   "display_name": "Python 3",
   "language": "python",
   "name": "python3"
  },
  "language_info": {
   "codemirror_mode": {
    "name": "ipython",
    "version": 3
   },
   "file_extension": ".py",
   "mimetype": "text/x-python",
   "name": "python",
   "nbconvert_exporter": "python",
   "pygments_lexer": "ipython3",
   "version": "3.7.0"
  }
 },
 "nbformat": 4,
 "nbformat_minor": 2
}
